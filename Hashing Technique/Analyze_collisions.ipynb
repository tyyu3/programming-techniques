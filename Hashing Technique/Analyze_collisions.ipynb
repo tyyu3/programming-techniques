{
 "cells": [
  {
   "cell_type": "code",
   "execution_count": 5,
   "metadata": {},
   "outputs": [],
   "source": [
    "import pandas as pd\n",
    "import matplotlib.pyplot as plt"
   ]
  },
  {
   "cell_type": "code",
   "execution_count": 6,
   "metadata": {},
   "outputs": [
    {
     "data": {
      "text/html": [
       "<div>\n",
       "<style scoped>\n",
       "    .dataframe tbody tr th:only-of-type {\n",
       "        vertical-align: middle;\n",
       "    }\n",
       "\n",
       "    .dataframe tbody tr th {\n",
       "        vertical-align: top;\n",
       "    }\n",
       "\n",
       "    .dataframe thead th {\n",
       "        text-align: right;\n",
       "    }\n",
       "</style>\n",
       "<table border=\"1\" class=\"dataframe\">\n",
       "  <thead>\n",
       "    <tr style=\"text-align: right;\">\n",
       "      <th></th>\n",
       "      <th>1</th>\n",
       "      <th>2</th>\n",
       "      <th>3</th>\n",
       "      <th>4</th>\n",
       "      <th>5</th>\n",
       "      <th>6</th>\n",
       "      <th>7</th>\n",
       "      <th>8</th>\n",
       "      <th>9</th>\n",
       "      <th>10</th>\n",
       "    </tr>\n",
       "  </thead>\n",
       "  <tbody>\n",
       "    <tr>\n",
       "      <th>0</th>\n",
       "      <td>100.00</td>\n",
       "      <td>11200.00000</td>\n",
       "      <td>22300.00000</td>\n",
       "      <td>33400.00000</td>\n",
       "      <td>44500.00000</td>\n",
       "      <td>55600.00000</td>\n",
       "      <td>66700.00000</td>\n",
       "      <td>77800.00000</td>\n",
       "      <td>88900.00000</td>\n",
       "      <td>99999.00000</td>\n",
       "    </tr>\n",
       "    <tr>\n",
       "      <th>1</th>\n",
       "      <td>0.12</td>\n",
       "      <td>0.98536</td>\n",
       "      <td>0.99475</td>\n",
       "      <td>0.99707</td>\n",
       "      <td>0.99822</td>\n",
       "      <td>0.99887</td>\n",
       "      <td>0.99915</td>\n",
       "      <td>0.99934</td>\n",
       "      <td>0.99949</td>\n",
       "      <td>0.99960</td>\n",
       "    </tr>\n",
       "    <tr>\n",
       "      <th>2</th>\n",
       "      <td>0.00</td>\n",
       "      <td>0.15902</td>\n",
       "      <td>0.28901</td>\n",
       "      <td>0.39689</td>\n",
       "      <td>0.48679</td>\n",
       "      <td>0.55532</td>\n",
       "      <td>0.61441</td>\n",
       "      <td>0.66260</td>\n",
       "      <td>0.70516</td>\n",
       "      <td>0.74073</td>\n",
       "    </tr>\n",
       "    <tr>\n",
       "      <th>3</th>\n",
       "      <td>0.15</td>\n",
       "      <td>0.98589</td>\n",
       "      <td>0.99493</td>\n",
       "      <td>0.99722</td>\n",
       "      <td>0.99820</td>\n",
       "      <td>0.99887</td>\n",
       "      <td>0.99915</td>\n",
       "      <td>0.99941</td>\n",
       "      <td>0.99949</td>\n",
       "      <td>0.99961</td>\n",
       "    </tr>\n",
       "    <tr>\n",
       "      <th>4</th>\n",
       "      <td>0.00</td>\n",
       "      <td>0.00054</td>\n",
       "      <td>0.00063</td>\n",
       "      <td>0.00102</td>\n",
       "      <td>0.00126</td>\n",
       "      <td>0.00162</td>\n",
       "      <td>0.00195</td>\n",
       "      <td>0.00216</td>\n",
       "      <td>0.00252</td>\n",
       "      <td>0.00282</td>\n",
       "    </tr>\n",
       "  </tbody>\n",
       "</table>\n",
       "</div>"
      ],
      "text/plain": [
       "       1            2            3            4            5            6   \\\n",
       "0  100.00  11200.00000  22300.00000  33400.00000  44500.00000  55600.00000   \n",
       "1    0.12      0.98536      0.99475      0.99707      0.99822      0.99887   \n",
       "2    0.00      0.15902      0.28901      0.39689      0.48679      0.55532   \n",
       "3    0.15      0.98589      0.99493      0.99722      0.99820      0.99887   \n",
       "4    0.00      0.00054      0.00063      0.00102      0.00126      0.00162   \n",
       "\n",
       "            7            8            9            10  \n",
       "0  66700.00000  77800.00000  88900.00000  99999.00000  \n",
       "1      0.99915      0.99934      0.99949      0.99960  \n",
       "2      0.61441      0.66260      0.70516      0.74073  \n",
       "3      0.99915      0.99941      0.99949      0.99961  \n",
       "4      0.00195      0.00216      0.00252      0.00282  "
      ]
     },
     "execution_count": 6,
     "metadata": {},
     "output_type": "execute_result"
    }
   ],
   "source": [
    "df = pd.read_csv(\"collisions.txt\",header=None)\n",
    "df = df.iloc[:, 1:]\n",
    "df"
   ]
  },
  {
   "cell_type": "code",
   "execution_count": 7,
   "metadata": {},
   "outputs": [],
   "source": [
    "vals = df.values.tolist()\n",
    "x = vals[0]\n",
    "y1 = [x*100 for x in vals[1]]\n",
    "y2 = [x*100 for x in vals[2]]\n",
    "y3 = [x*100 for x in vals[3]]\n",
    "y4 = [x*100 for x in vals[4]]"
   ]
  },
  {
   "cell_type": "code",
   "execution_count": 8,
   "metadata": {},
   "outputs": [
    {
     "data": {
      "image/png": "[encoded data removed]",
      "text/plain": [
       "<Figure size 576x576 with 1 Axes>"
      ]
     },
     "metadata": {
      "needs_background": "light"
     },
     "output_type": "display_data"
    }
   ],
   "source": [
    "plt.figure(figsize=(8,8))\n",
    "plt.plot(x, y1)\n",
    "plt.plot(x, y2)\n",
    "plt.plot(x, y3)\n",
    "plt.plot(x, y4)\n",
    "plt.xlabel('N', fontsize=18)\n",
    "plt.ylabel('Collisions, %', fontsize=16)\n",
    "plt.legend(['Bad hash','Better hash','Rot13 hash','Rot19 hash'])\n",
    "plt.savefig(\"Collisions.png\")"
   ]
  },
  {
   "cell_type": "code",
   "execution_count": null,
   "metadata": {},
   "outputs": [],
   "source": []
  },
  {
   "cell_type": "code",
   "execution_count": null,
   "metadata": {},
   "outputs": [],
   "source": []
  }
 ],
 "metadata": {
  "kernelspec": {
   "display_name": "Python 3",
   "language": "python",
   "name": "python3"
  },
  "language_info": {
   "codemirror_mode": {
    "name": "ipython",
    "version": 3
   },
   "file_extension": ".py",
   "mimetype": "text/x-python",
   "name": "python",
   "nbconvert_exporter": "python",
   "pygments_lexer": "ipython3",
   "version": "3.7.3"
  }
 },
 "nbformat": 4,
 "nbformat_minor": 2
}
